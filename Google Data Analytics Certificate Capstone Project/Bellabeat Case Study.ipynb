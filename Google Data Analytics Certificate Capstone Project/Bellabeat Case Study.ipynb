{
 "cells": [
  {
   "cell_type": "markdown",
   "metadata": {},
   "source": [
    "# This is my first\n",
    "## I am new to notebooks"
   ]
  }
 ],
 "metadata": {
  "kernelspec": {
   "display_name": "Python 3.9.9 32-bit",
   "language": "python",
   "name": "python3"
  },
  "language_info": {
   "name": "python",
   "version": "3.9.9"
  },
  "orig_nbformat": 4,
  "vscode": {
   "interpreter": {
    "hash": "22a99c8db462f1c6559089ef7c63b6423f4c34230ca4111aa2a89d348e2129f8"
   }
  }
 },
 "nbformat": 4,
 "nbformat_minor": 2
}
